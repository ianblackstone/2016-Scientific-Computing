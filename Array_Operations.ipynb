{
 "cells": [
  {
   "cell_type": "markdown",
   "metadata": {},
   "source": [
    "## Array Indexing"
   ]
  },
  {
   "cell_type": "markdown",
   "metadata": {},
   "source": [
    "Arrays form a fundamental type of scientific computing datatype.  Python, mainly through numpy, has specific facilities for manipulating, querying, and utilizing arrays.  This notebook shows a few of these capabilities.\n",
    "\n",
    "First, the indexing convention of Python.    Python uses single brackets to contain index values.  A 2D array, say A[n,m], is indexed like a 2D matrix where the first index refers to the row number, and the second to the column number.   Remember that all indexes start with 0."
   ]
  },
  {
   "cell_type": "code",
   "execution_count": 12,
   "metadata": {
    "collapsed": false
   },
   "outputs": [
    {
     "data": {
      "text/plain": [
       "numpy.ndarray"
      ]
     },
     "execution_count": 12,
     "metadata": {},
     "output_type": "execute_result"
    }
   ],
   "source": [
    "#Let us start by reading the sunspot CO2 data in as a large array\n",
    "import numpy as np\n",
    "myco2 = np.loadtxt('co2_mm_mlo.txt', skiprows=72)\n",
    "#above gets all data as 2d array\n",
    "#x,y,z = np.loadtxt('spot_num.txt', skiprows=1,usecols=(0,1,2),unpack=True)\n",
    "#this gets only the first three columns (usecols) and sets equal to three 1d arrays (unpack)\n",
    "type(myco2)"
   ]
  },
  {
   "cell_type": "markdown",
   "metadata": {
    "collapsed": false
   },
   "source": [
    "Find the overall dimensions of the array by using the shape parameter for the numpy.ndarray type object."
   ]
  },
  {
   "cell_type": "code",
   "execution_count": 13,
   "metadata": {
    "collapsed": false
   },
   "outputs": [
    {
     "data": {
      "text/plain": [
       "(701, 7)"
      ]
     },
     "execution_count": 13,
     "metadata": {},
     "output_type": "execute_result"
    }
   ],
   "source": [
    "myco2.shape"
   ]
  },
  {
   "cell_type": "markdown",
   "metadata": {
    "collapsed": false
   },
   "source": [
    "What is the value in the third row, sixth column?"
   ]
  },
  {
   "cell_type": "code",
   "execution_count": 16,
   "metadata": {
    "collapsed": false
   },
   "outputs": [
    {
     "data": {
      "text/plain": [
       "314.70999999999998"
      ]
     },
     "execution_count": 16,
     "metadata": {},
     "output_type": "execute_result"
    }
   ],
   "source": [
    "myco2[2,5]"
   ]
  },
  {
   "cell_type": "markdown",
   "metadata": {
    "collapsed": false
   },
   "source": [
    "It is interesting that this value in the actual file is 314.71.  What has happened?   Let us look at the type of this value -"
   ]
  },
  {
   "cell_type": "code",
   "execution_count": 17,
   "metadata": {
    "collapsed": false
   },
   "outputs": [
    {
     "data": {
      "text/plain": [
       "numpy.float64"
      ]
     },
     "execution_count": 17,
     "metadata": {},
     "output_type": "execute_result"
    }
   ],
   "source": [
    "type(myco2[2,5])"
   ]
  },
  {
   "cell_type": "markdown",
   "metadata": {
    "collapsed": false
   },
   "source": [
    "Not surprisingly, this is read in as a double-precision floating point number, and so cannot represent the number precisely, but is off by 1 part in $10^{17}$, typical for double-precision.\n",
    "\n",
    "One can use negative numbers to index values starting with the last elements.   For instance, the last element in our array is - "
   ]
  },
  {
   "cell_type": "code",
   "execution_count": 18,
   "metadata": {
    "collapsed": false
   },
   "outputs": [
    {
     "data": {
      "text/plain": [
       "28.0"
      ]
     },
     "execution_count": 18,
     "metadata": {},
     "output_type": "execute_result"
    }
   ],
   "source": [
    "myco2[-1,-1]"
   ]
  },
  {
   "cell_type": "markdown",
   "metadata": {
    "collapsed": false
   },
   "source": [
    "What happens if you use fewer index values than are necessary to describe the array?   You get a subarray.  For instance, the first row of our data is -"
   ]
  },
  {
   "cell_type": "code",
   "execution_count": 19,
   "metadata": {
    "collapsed": false
   },
   "outputs": [
    {
     "data": {
      "text/plain": [
       "array([  1.95800000e+03,   3.00000000e+00,   1.95820800e+03,\n",
       "         3.15710000e+02,   3.15710000e+02,   3.14620000e+02,\n",
       "        -1.00000000e+00])"
      ]
     },
     "execution_count": 19,
     "metadata": {},
     "output_type": "execute_result"
    }
   ],
   "source": [
    "myco2[0]"
   ]
  },
  {
   "cell_type": "markdown",
   "metadata": {
    "collapsed": false
   },
   "source": [
    "The assumption is that the indexes present start with the first dimension, to reference a column instead, just replace the first dimension with ':' which is a range value meaning all indices.   So the third column is accessed through -"
   ]
  },
  {
   "cell_type": "code",
   "execution_count": 20,
   "metadata": {
    "collapsed": false,
    "scrolled": true
   },
   "outputs": [
    {
     "data": {
      "text/plain": [
       "array([ 1958.208,  1958.292,  1958.375,  1958.458,  1958.542,  1958.625,\n",
       "        1958.708,  1958.792,  1958.875,  1958.958,  1959.042,  1959.125,\n",
       "        1959.208,  1959.292,  1959.375,  1959.458,  1959.542,  1959.625,\n",
       "        1959.708,  1959.792,  1959.875,  1959.958,  1960.042,  1960.125,\n",
       "        1960.208,  1960.292,  1960.375,  1960.458,  1960.542,  1960.625,\n",
       "        1960.708,  1960.792,  1960.875,  1960.958,  1961.042,  1961.125,\n",
       "        1961.208,  1961.292,  1961.375,  1961.458,  1961.542,  1961.625,\n",
       "        1961.708,  1961.792,  1961.875,  1961.958,  1962.042,  1962.125,\n",
       "        1962.208,  1962.292,  1962.375,  1962.458,  1962.542,  1962.625,\n",
       "        1962.708,  1962.792,  1962.875,  1962.958,  1963.042,  1963.125,\n",
       "        1963.208,  1963.292,  1963.375,  1963.458,  1963.542,  1963.625,\n",
       "        1963.708,  1963.792,  1963.875,  1963.958,  1964.042,  1964.125,\n",
       "        1964.208,  1964.292,  1964.375,  1964.458,  1964.542,  1964.625,\n",
       "        1964.708,  1964.792,  1964.875,  1964.958,  1965.042,  1965.125,\n",
       "        1965.208,  1965.292,  1965.375,  1965.458,  1965.542,  1965.625,\n",
       "        1965.708,  1965.792,  1965.875,  1965.958,  1966.042,  1966.125,\n",
       "        1966.208,  1966.292,  1966.375,  1966.458,  1966.542,  1966.625,\n",
       "        1966.708,  1966.792,  1966.875,  1966.958,  1967.042,  1967.125,\n",
       "        1967.208,  1967.292,  1967.375,  1967.458,  1967.542,  1967.625,\n",
       "        1967.708,  1967.792,  1967.875,  1967.958,  1968.042,  1968.125,\n",
       "        1968.208,  1968.292,  1968.375,  1968.458,  1968.542,  1968.625,\n",
       "        1968.708,  1968.792,  1968.875,  1968.958,  1969.042,  1969.125,\n",
       "        1969.208,  1969.292,  1969.375,  1969.458,  1969.542,  1969.625,\n",
       "        1969.708,  1969.792,  1969.875,  1969.958,  1970.042,  1970.125,\n",
       "        1970.208,  1970.292,  1970.375,  1970.458,  1970.542,  1970.625,\n",
       "        1970.708,  1970.792,  1970.875,  1970.958,  1971.042,  1971.125,\n",
       "        1971.208,  1971.292,  1971.375,  1971.458,  1971.542,  1971.625,\n",
       "        1971.708,  1971.792,  1971.875,  1971.958,  1972.042,  1972.125,\n",
       "        1972.208,  1972.292,  1972.375,  1972.458,  1972.542,  1972.625,\n",
       "        1972.708,  1972.792,  1972.875,  1972.958,  1973.042,  1973.125,\n",
       "        1973.208,  1973.292,  1973.375,  1973.458,  1973.542,  1973.625,\n",
       "        1973.708,  1973.792,  1973.875,  1973.958,  1974.042,  1974.125,\n",
       "        1974.208,  1974.292,  1974.375,  1974.458,  1974.542,  1974.625,\n",
       "        1974.708,  1974.792,  1974.875,  1974.958,  1975.042,  1975.125,\n",
       "        1975.208,  1975.292,  1975.375,  1975.458,  1975.542,  1975.625,\n",
       "        1975.708,  1975.792,  1975.875,  1975.958,  1976.042,  1976.125,\n",
       "        1976.208,  1976.292,  1976.375,  1976.458,  1976.542,  1976.625,\n",
       "        1976.708,  1976.792,  1976.875,  1976.958,  1977.042,  1977.125,\n",
       "        1977.208,  1977.292,  1977.375,  1977.458,  1977.542,  1977.625,\n",
       "        1977.708,  1977.792,  1977.875,  1977.958,  1978.042,  1978.125,\n",
       "        1978.208,  1978.292,  1978.375,  1978.458,  1978.542,  1978.625,\n",
       "        1978.708,  1978.792,  1978.875,  1978.958,  1979.042,  1979.125,\n",
       "        1979.208,  1979.292,  1979.375,  1979.458,  1979.542,  1979.625,\n",
       "        1979.708,  1979.792,  1979.875,  1979.958,  1980.042,  1980.125,\n",
       "        1980.208,  1980.292,  1980.375,  1980.458,  1980.542,  1980.625,\n",
       "        1980.708,  1980.792,  1980.875,  1980.958,  1981.042,  1981.125,\n",
       "        1981.208,  1981.292,  1981.375,  1981.458,  1981.542,  1981.625,\n",
       "        1981.708,  1981.792,  1981.875,  1981.958,  1982.042,  1982.125,\n",
       "        1982.208,  1982.292,  1982.375,  1982.458,  1982.542,  1982.625,\n",
       "        1982.708,  1982.792,  1982.875,  1982.958,  1983.042,  1983.125,\n",
       "        1983.208,  1983.292,  1983.375,  1983.458,  1983.542,  1983.625,\n",
       "        1983.708,  1983.792,  1983.875,  1983.958,  1984.042,  1984.125,\n",
       "        1984.208,  1984.292,  1984.375,  1984.458,  1984.542,  1984.625,\n",
       "        1984.708,  1984.792,  1984.875,  1984.958,  1985.042,  1985.125,\n",
       "        1985.208,  1985.292,  1985.375,  1985.458,  1985.542,  1985.625,\n",
       "        1985.708,  1985.792,  1985.875,  1985.958,  1986.042,  1986.125,\n",
       "        1986.208,  1986.292,  1986.375,  1986.458,  1986.542,  1986.625,\n",
       "        1986.708,  1986.792,  1986.875,  1986.958,  1987.042,  1987.125,\n",
       "        1987.208,  1987.292,  1987.375,  1987.458,  1987.542,  1987.625,\n",
       "        1987.708,  1987.792,  1987.875,  1987.958,  1988.042,  1988.125,\n",
       "        1988.208,  1988.292,  1988.375,  1988.458,  1988.542,  1988.625,\n",
       "        1988.708,  1988.792,  1988.875,  1988.958,  1989.042,  1989.125,\n",
       "        1989.208,  1989.292,  1989.375,  1989.458,  1989.542,  1989.625,\n",
       "        1989.708,  1989.792,  1989.875,  1989.958,  1990.042,  1990.125,\n",
       "        1990.208,  1990.292,  1990.375,  1990.458,  1990.542,  1990.625,\n",
       "        1990.708,  1990.792,  1990.875,  1990.958,  1991.042,  1991.125,\n",
       "        1991.208,  1991.292,  1991.375,  1991.458,  1991.542,  1991.625,\n",
       "        1991.708,  1991.792,  1991.875,  1991.958,  1992.042,  1992.125,\n",
       "        1992.208,  1992.292,  1992.375,  1992.458,  1992.542,  1992.625,\n",
       "        1992.708,  1992.792,  1992.875,  1992.958,  1993.042,  1993.125,\n",
       "        1993.208,  1993.292,  1993.375,  1993.458,  1993.542,  1993.625,\n",
       "        1993.708,  1993.792,  1993.875,  1993.958,  1994.042,  1994.125,\n",
       "        1994.208,  1994.292,  1994.375,  1994.458,  1994.542,  1994.625,\n",
       "        1994.708,  1994.792,  1994.875,  1994.958,  1995.042,  1995.125,\n",
       "        1995.208,  1995.292,  1995.375,  1995.458,  1995.542,  1995.625,\n",
       "        1995.708,  1995.792,  1995.875,  1995.958,  1996.042,  1996.125,\n",
       "        1996.208,  1996.292,  1996.375,  1996.458,  1996.542,  1996.625,\n",
       "        1996.708,  1996.792,  1996.875,  1996.958,  1997.042,  1997.125,\n",
       "        1997.208,  1997.292,  1997.375,  1997.458,  1997.542,  1997.625,\n",
       "        1997.708,  1997.792,  1997.875,  1997.958,  1998.042,  1998.125,\n",
       "        1998.208,  1998.292,  1998.375,  1998.458,  1998.542,  1998.625,\n",
       "        1998.708,  1998.792,  1998.875,  1998.958,  1999.042,  1999.125,\n",
       "        1999.208,  1999.292,  1999.375,  1999.458,  1999.542,  1999.625,\n",
       "        1999.708,  1999.792,  1999.875,  1999.958,  2000.042,  2000.125,\n",
       "        2000.208,  2000.292,  2000.375,  2000.458,  2000.542,  2000.625,\n",
       "        2000.708,  2000.792,  2000.875,  2000.958,  2001.042,  2001.125,\n",
       "        2001.208,  2001.292,  2001.375,  2001.458,  2001.542,  2001.625,\n",
       "        2001.708,  2001.792,  2001.875,  2001.958,  2002.042,  2002.125,\n",
       "        2002.208,  2002.292,  2002.375,  2002.458,  2002.542,  2002.625,\n",
       "        2002.708,  2002.792,  2002.875,  2002.958,  2003.042,  2003.125,\n",
       "        2003.208,  2003.292,  2003.375,  2003.458,  2003.542,  2003.625,\n",
       "        2003.708,  2003.792,  2003.875,  2003.958,  2004.042,  2004.125,\n",
       "        2004.208,  2004.292,  2004.375,  2004.458,  2004.542,  2004.625,\n",
       "        2004.708,  2004.792,  2004.875,  2004.958,  2005.042,  2005.125,\n",
       "        2005.208,  2005.292,  2005.375,  2005.458,  2005.542,  2005.625,\n",
       "        2005.708,  2005.792,  2005.875,  2005.958,  2006.042,  2006.125,\n",
       "        2006.208,  2006.292,  2006.375,  2006.458,  2006.542,  2006.625,\n",
       "        2006.708,  2006.792,  2006.875,  2006.958,  2007.042,  2007.125,\n",
       "        2007.208,  2007.292,  2007.375,  2007.458,  2007.542,  2007.625,\n",
       "        2007.708,  2007.792,  2007.875,  2007.958,  2008.042,  2008.125,\n",
       "        2008.208,  2008.292,  2008.375,  2008.458,  2008.542,  2008.625,\n",
       "        2008.708,  2008.792,  2008.875,  2008.958,  2009.042,  2009.125,\n",
       "        2009.208,  2009.292,  2009.375,  2009.458,  2009.542,  2009.625,\n",
       "        2009.708,  2009.792,  2009.875,  2009.958,  2010.042,  2010.125,\n",
       "        2010.208,  2010.292,  2010.375,  2010.458,  2010.542,  2010.625,\n",
       "        2010.708,  2010.792,  2010.875,  2010.958,  2011.042,  2011.125,\n",
       "        2011.208,  2011.292,  2011.375,  2011.458,  2011.542,  2011.625,\n",
       "        2011.708,  2011.792,  2011.875,  2011.958,  2012.042,  2012.125,\n",
       "        2012.208,  2012.292,  2012.375,  2012.458,  2012.542,  2012.625,\n",
       "        2012.708,  2012.792,  2012.875,  2012.958,  2013.042,  2013.125,\n",
       "        2013.208,  2013.292,  2013.375,  2013.458,  2013.542,  2013.625,\n",
       "        2013.708,  2013.792,  2013.875,  2013.958,  2014.042,  2014.125,\n",
       "        2014.208,  2014.292,  2014.375,  2014.458,  2014.542,  2014.625,\n",
       "        2014.708,  2014.792,  2014.875,  2014.958,  2015.042,  2015.125,\n",
       "        2015.208,  2015.292,  2015.375,  2015.458,  2015.542,  2015.625,\n",
       "        2015.708,  2015.792,  2015.875,  2015.958,  2016.042,  2016.125,\n",
       "        2016.208,  2016.292,  2016.375,  2016.458,  2016.542])"
      ]
     },
     "execution_count": 20,
     "metadata": {},
     "output_type": "execute_result"
    }
   ],
   "source": [
    "myco2[:,2]"
   ]
  },
  {
   "cell_type": "markdown",
   "metadata": {
    "collapsed": false
   },
   "source": [
    "Ranges using the ':' operator can be used for any index.   Note that the second value in the begin:end construct is one greater than the index used.  Columns 2-4 for rows 100-110 are given by -"
   ]
  },
  {
   "cell_type": "code",
   "execution_count": 30,
   "metadata": {
    "collapsed": false
   },
   "outputs": [
    {
     "data": {
      "text/plain": [
       "array([[  6.00000000e+00,   1.96645800e+03,   3.23750000e+02],\n",
       "       [  7.00000000e+00,   1.96654200e+03,   3.22390000e+02],\n",
       "       [  8.00000000e+00,   1.96662500e+03,   3.20370000e+02],\n",
       "       [  9.00000000e+00,   1.96670800e+03,   3.18640000e+02],\n",
       "       [  1.00000000e+01,   1.96679200e+03,   3.18100000e+02],\n",
       "       [  1.10000000e+01,   1.96687500e+03,   3.19790000e+02],\n",
       "       [  1.20000000e+01,   1.96695800e+03,   3.21080000e+02],\n",
       "       [  1.00000000e+00,   1.96704200e+03,   3.22070000e+02],\n",
       "       [  2.00000000e+00,   1.96712500e+03,   3.22500000e+02],\n",
       "       [  3.00000000e+00,   1.96720800e+03,   3.23040000e+02],\n",
       "       [  4.00000000e+00,   1.96729200e+03,   3.24420000e+02]])"
      ]
     },
     "execution_count": 30,
     "metadata": {},
     "output_type": "execute_result"
    }
   ],
   "source": [
    "myco2[99:110,1:4]"
   ]
  },
  {
   "cell_type": "markdown",
   "metadata": {},
   "source": [
    "A powerful way to index arrays is by supplying arrays as indexes.   In this case, the array values are used as individual indices.   For instance, to get the 2nd and 4th rows, we can use - "
   ]
  },
  {
   "cell_type": "code",
   "execution_count": 34,
   "metadata": {
    "collapsed": false
   },
   "outputs": [
    {
     "data": {
      "text/plain": [
       "array([[  1.95800000e+03,   5.00000000e+00,   1.95837500e+03,\n",
       "          3.17500000e+02,   3.17500000e+02,   3.14710000e+02,\n",
       "         -1.00000000e+00],\n",
       "       [  1.95800000e+03,   7.00000000e+00,   1.95854200e+03,\n",
       "          3.15860000e+02,   3.15860000e+02,   3.14980000e+02,\n",
       "         -1.00000000e+00]])"
      ]
     },
     "execution_count": 34,
     "metadata": {},
     "output_type": "execute_result"
    }
   ],
   "source": [
    "myco2[[2,4],:]"
   ]
  },
  {
   "cell_type": "markdown",
   "metadata": {},
   "source": [
    "## Array Creation Using Comprehensions"
   ]
  },
  {
   "cell_type": "markdown",
   "metadata": {},
   "source": [
    "Python can create lists by using a mathematical formula coupled with a range operator.  For instance, if I wanted to create an array of the first 100 integers squared, I could use - "
   ]
  },
  {
   "cell_type": "code",
   "execution_count": 45,
   "metadata": {
    "collapsed": false
   },
   "outputs": [],
   "source": [
    "squares=np.array([x**2 for x in range(100)])"
   ]
  },
  {
   "cell_type": "code",
   "execution_count": 46,
   "metadata": {
    "collapsed": false
   },
   "outputs": [
    {
     "data": {
      "text/plain": [
       "array([ 0,  1,  4,  9, 16, 25, 36, 49, 64, 81])"
      ]
     },
     "execution_count": 46,
     "metadata": {},
     "output_type": "execute_result"
    }
   ],
   "source": [
    "squares[0:10]"
   ]
  },
  {
   "cell_type": "code",
   "execution_count": 47,
   "metadata": {
    "collapsed": false
   },
   "outputs": [
    {
     "data": {
      "text/plain": [
       "numpy.ndarray"
      ]
     },
     "execution_count": 47,
     "metadata": {},
     "output_type": "execute_result"
    }
   ],
   "source": [
    "type(squares)"
   ]
  },
  {
   "cell_type": "markdown",
   "metadata": {},
   "source": [
    "There are other ways to do this, but in general, this can be a useful mechanism for creating numerical arrays.    Another way to do this is as follows - "
   ]
  },
  {
   "cell_type": "code",
   "execution_count": 50,
   "metadata": {
    "collapsed": false
   },
   "outputs": [],
   "source": [
    "squares2=np.arange(100)**2"
   ]
  },
  {
   "cell_type": "code",
   "execution_count": 51,
   "metadata": {
    "collapsed": false
   },
   "outputs": [
    {
     "data": {
      "text/plain": [
       "array([ 0,  1,  4,  9, 16, 25, 36, 49, 64, 81])"
      ]
     },
     "execution_count": 51,
     "metadata": {},
     "output_type": "execute_result"
    }
   ],
   "source": [
    "squares2[0:10]"
   ]
  },
  {
   "cell_type": "markdown",
   "metadata": {
    "collapsed": false
   },
   "source": [
    "In this case, we used the numpy arange function which creates an array of index values, then we simply squared the results using the exponentiation operator on a vector which performed an element by element calculation."
   ]
  },
  {
   "cell_type": "markdown",
   "metadata": {},
   "source": [
    "## Finding Array and Index Values"
   ]
  },
  {
   "cell_type": "markdown",
   "metadata": {},
   "source": [
    "An extremely powerful technique for investigating arrays is to find out which elements match certain criteria.    This is achieved using another form of comprehension.  In this case, let us find large values of CO2 for the seasonally adjusted trend data -"
   ]
  },
  {
   "cell_type": "code",
   "execution_count": 54,
   "metadata": {
    "collapsed": false
   },
   "outputs": [],
   "source": [
    "highco2 = [x for x in myco2[:,5] if x > 400.0]"
   ]
  },
  {
   "cell_type": "code",
   "execution_count": 55,
   "metadata": {
    "collapsed": false
   },
   "outputs": [
    {
     "data": {
      "text/plain": [
       "[400.39999999999998,\n",
       " 400.56999999999999,\n",
       " 400.45999999999998,\n",
       " 400.89999999999998,\n",
       " 400.73000000000002,\n",
       " 401.04000000000002,\n",
       " 401.67000000000002,\n",
       " 402.30000000000001,\n",
       " 402.64999999999998,\n",
       " 402.36000000000001,\n",
       " 403.27999999999997,\n",
       " 403.23000000000002,\n",
       " 404.54000000000002,\n",
       " 404.31999999999999,\n",
       " 404.47000000000003,\n",
       " 403.99000000000001]"
      ]
     },
     "execution_count": 55,
     "metadata": {},
     "output_type": "execute_result"
    }
   ],
   "source": [
    "highco2"
   ]
  },
  {
   "cell_type": "markdown",
   "metadata": {
    "collapsed": false,
    "scrolled": true
   },
   "source": [
    "What if we instead wanted to note where these values were in the array for future use?  In this case, we can use the numpy where function which returns indices associated with the desired values - "
   ]
  },
  {
   "cell_type": "code",
   "execution_count": 61,
   "metadata": {
    "collapsed": false
   },
   "outputs": [
    {
     "data": {
      "text/plain": [
       "(array([685, 686, 687, 688, 689, 690, 691, 692, 693, 694, 695, 696, 697,\n",
       "        698, 699, 700]),)"
      ]
     },
     "execution_count": 61,
     "metadata": {},
     "output_type": "execute_result"
    }
   ],
   "source": [
    "In [10]: bigind=np.where(myco2[:,5] > 400.0); bigind"
   ]
  },
  {
   "cell_type": "markdown",
   "metadata": {},
   "source": [
    "Now, these index values can be used for further analysis.   What are the rows for all of these entrie?"
   ]
  },
  {
   "cell_type": "code",
   "execution_count": 62,
   "metadata": {
    "collapsed": false
   },
   "outputs": [
    {
     "data": {
      "text/plain": [
       "array([[[  2.01500000e+03,   4.00000000e+00,   2.01529200e+03,\n",
       "           4.03280000e+02,   4.03280000e+02,   4.00400000e+02,\n",
       "           2.70000000e+01],\n",
       "        [  2.01500000e+03,   5.00000000e+00,   2.01537500e+03,\n",
       "           4.03960000e+02,   4.03960000e+02,   4.00570000e+02,\n",
       "           3.00000000e+01],\n",
       "        [  2.01500000e+03,   6.00000000e+00,   2.01545800e+03,\n",
       "           4.02800000e+02,   4.02800000e+02,   4.00460000e+02,\n",
       "           2.80000000e+01],\n",
       "        [  2.01500000e+03,   7.00000000e+00,   2.01554200e+03,\n",
       "           4.01310000e+02,   4.01310000e+02,   4.00900000e+02,\n",
       "           2.30000000e+01],\n",
       "        [  2.01500000e+03,   8.00000000e+00,   2.01562500e+03,\n",
       "           3.98930000e+02,   3.98930000e+02,   4.00730000e+02,\n",
       "           2.80000000e+01],\n",
       "        [  2.01500000e+03,   9.00000000e+00,   2.01570800e+03,\n",
       "           3.97630000e+02,   3.97630000e+02,   4.01040000e+02,\n",
       "           2.50000000e+01],\n",
       "        [  2.01500000e+03,   1.00000000e+01,   2.01579200e+03,\n",
       "           3.98290000e+02,   3.98290000e+02,   4.01670000e+02,\n",
       "           2.80000000e+01],\n",
       "        [  2.01500000e+03,   1.10000000e+01,   2.01587500e+03,\n",
       "           4.00160000e+02,   4.00160000e+02,   4.02300000e+02,\n",
       "           2.70000000e+01],\n",
       "        [  2.01500000e+03,   1.20000000e+01,   2.01595800e+03,\n",
       "           4.01850000e+02,   4.01850000e+02,   4.02650000e+02,\n",
       "           3.00000000e+01],\n",
       "        [  2.01600000e+03,   1.00000000e+00,   2.01604200e+03,\n",
       "           4.02520000e+02,   4.02520000e+02,   4.02360000e+02,\n",
       "           2.70000000e+01],\n",
       "        [  2.01600000e+03,   2.00000000e+00,   2.01612500e+03,\n",
       "           4.04040000e+02,   4.04040000e+02,   4.03280000e+02,\n",
       "           2.60000000e+01],\n",
       "        [  2.01600000e+03,   3.00000000e+00,   2.01620800e+03,\n",
       "           4.04830000e+02,   4.04830000e+02,   4.03230000e+02,\n",
       "           2.90000000e+01],\n",
       "        [  2.01600000e+03,   4.00000000e+00,   2.01629200e+03,\n",
       "           4.07420000e+02,   4.07420000e+02,   4.04540000e+02,\n",
       "           2.50000000e+01],\n",
       "        [  2.01600000e+03,   5.00000000e+00,   2.01637500e+03,\n",
       "           4.07700000e+02,   4.07700000e+02,   4.04320000e+02,\n",
       "           2.90000000e+01],\n",
       "        [  2.01600000e+03,   6.00000000e+00,   2.01645800e+03,\n",
       "           4.06810000e+02,   4.06810000e+02,   4.04470000e+02,\n",
       "           2.60000000e+01],\n",
       "        [  2.01600000e+03,   7.00000000e+00,   2.01654200e+03,\n",
       "           4.04390000e+02,   4.04390000e+02,   4.03990000e+02,\n",
       "           2.80000000e+01]]])"
      ]
     },
     "execution_count": 62,
     "metadata": {},
     "output_type": "execute_result"
    }
   ],
   "source": [
    "myco2[bigind,:]"
   ]
  },
  {
   "cell_type": "code",
   "execution_count": 33,
   "metadata": {
    "collapsed": false
   },
   "outputs": [
    {
     "data": {
      "text/plain": [
       "pandas.core.series.Series"
      ]
     },
     "execution_count": 33,
     "metadata": {},
     "output_type": "execute_result"
    }
   ],
   "source": [
    "type(spotstr['MON'])"
   ]
  },
  {
   "cell_type": "code",
   "execution_count": 34,
   "metadata": {
    "collapsed": false
   },
   "outputs": [
    {
     "data": {
      "image/png": "[encoded data removed]",
      "text/plain": [
       "<matplotlib.figure.Figure at 0x108170cf8>"
      ]
     },
     "metadata": {},
     "output_type": "display_data"
    }
   ],
   "source": [
    "import numpy as np\n",
    "import matplotlib.pyplot as plt\n",
    "%matplotlib inline\n",
    "newdate = spotstr['YEAR'] + (spotstr['MON']-0.5)/12.      \n",
    "plt.plot(newdate,spotstr['SSN'],'ro')  #the : means use all indices, can be used for formal range\n",
    "plt.xlabel('Year')\n",
    "plt.ylabel('Sunspots')\n",
    "plt.title('Sunspot History')\n",
    "plt.show()"
   ]
  },
  {
   "cell_type": "code",
   "execution_count": null,
   "metadata": {
    "collapsed": true
   },
   "outputs": [],
   "source": []
  }
 ],
 "metadata": {
  "kernelspec": {
   "display_name": "Python 3",
   "language": "python",
   "name": "python3"
  },
  "language_info": {
   "codemirror_mode": {
    "name": "ipython",
    "version": 3
   },
   "file_extension": ".py",
   "mimetype": "text/x-python",
   "name": "python",
   "nbconvert_exporter": "python",
   "pygments_lexer": "ipython3",
   "version": "3.5.1"
  }
 },
 "nbformat": 4,
 "nbformat_minor": 0
}
