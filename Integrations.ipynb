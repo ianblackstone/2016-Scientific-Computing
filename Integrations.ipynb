{
 "cells": [
  {
   "cell_type": "markdown",
   "metadata": {},
   "source": [
    "## Integration Examples"
   ]
  },
  {
   "cell_type": "markdown",
   "metadata": {},
   "source": [
    "Let us use the midpoint (and then trapezoidal) rule to calculate an integral and practice defining a simple function.  \n",
    "\n",
    "Two new things in this script are -\n",
    "1) using a function within a script to create reusable code\n",
    "2) use of the += operation"
   ]
  },
  {
   "cell_type": "markdown",
   "metadata": {},
   "source": [
    "Functions in python have the general form - \n",
    "\n",
    "def functionname(arguments):\n",
    "     block of code\n",
    "\n",
    "where the block of code can be quite complex. Arguments are user-defined inputs that are included with each function call, although no arguments are required.\n",
    "\n",
    "Usually the block is ended with a \"return\" function which outputs the quantity of interest.\n",
    "Functions defined within a script are known to the script, but files of functions can be defined then loaded with a command like -\n",
    "\n",
    "from mydefinitions import myfunction\n",
    "\n",
    "where a mydefinitions.py file is expected, containing the definition of myfunction.\n",
    "\n",
    "The use of functions provides modularity, better organization, readability, and re-use capability to your code"
   ]
  },
  {
   "cell_type": "markdown",
   "metadata": {},
   "source": [
    "### Midpoint Rule"
   ]
  },
  {
   "cell_type": "markdown",
   "metadata": {},
   "source": [
    "The expression, as discussed in class, for the midpoint rule assuming you are using an even number (N) of bins of width h and every other point (N+1 points total) is used as a midpoint is -\n",
    "$$I[a,b] =2h[\\sum_{k=0}^{N/2} f(a+(2k+1)h)]$$"
   ]
  },
  {
   "cell_type": "code",
   "execution_count": 3,
   "metadata": {
    "collapsed": false
   },
   "outputs": [
    {
     "name": "stdout",
     "output_type": "stream",
     "text": [
      "4.31689453125\n"
     ]
    }
   ],
   "source": [
    "import math\n",
    "\n",
    "def f(x):\n",
    "    return x**4 - 2*x + 1\n",
    "\n",
    "N = 16\n",
    "a = 0.0\n",
    "b = 2.0\n",
    "\n",
    "h = (b -a)/N\n",
    "maxiter=int(N/2)\n",
    "s=0\n",
    "#s = 0.5*f(a) + 0.5*f(b)\n",
    "for k in range(0,maxiter):\n",
    "    s += f(a+(2*k+1)*h)\n",
    "\n",
    "print(2*h*s)"
   ]
  },
  {
   "cell_type": "markdown",
   "metadata": {},
   "source": [
    "If you have N+1 points, keep in mind that Python array indexing starts at 0, so a=x[0] and b=x[N]"
   ]
  },
  {
   "cell_type": "markdown",
   "metadata": {},
   "source": [
    "### Trapezoidal Rule"
   ]
  },
  {
   "cell_type": "markdown",
   "metadata": {},
   "source": [
    "Newman uses the trapezoidal rule, which differs from the midpoint rule in that you use only the endpoints of an individual bin, and do not have to evaluate at a third point in the middle.  For a single bin (interval) the integral is -\n",
    "$$A=h/2 [f(x) + f(x+h)]\n",
    "\n",
    "As a consequence, if we sum over all segments of multiple trapezoids covering a larger region, the exterior points are used once and all inner points used twice giving an overall integral of -  \n",
    "\n",
    "$$I[a,b] =h[f(a)/2. + f(b)/2. + \\sum_{k=1}^{N-1} f(a+kh)]$$"
   ]
  },
  {
   "cell_type": "code",
   "execution_count": 4,
   "metadata": {
    "collapsed": false
   },
   "outputs": [
    {
     "name": "stdout",
     "output_type": "stream",
     "text": [
      "4.441650390625\n"
     ]
    }
   ],
   "source": [
    "#based on Newman code -  %load \"../newman/trapezoidal.py\"\n",
    "\n",
    "def f(x):\n",
    "    return x**4 - 2*x +1\n",
    "\n",
    "N = 16\n",
    "a = 0.0\n",
    "b = 2.0\n",
    "\n",
    "h = (b-a)/N\n",
    "\n",
    "s = 0.5*f(a) + 0.5*f(b)\n",
    "for k in range(1,N):\n",
    "    s += f(a+k*h)\n",
    "\n",
    "print(h*s)\n"
   ]
  },
  {
   "cell_type": "markdown",
   "metadata": {},
   "source": [
    "### Simpson's Rule"
   ]
  },
  {
   "cell_type": "markdown",
   "metadata": {
    "collapsed": true
   },
   "source": [
    "Without proof, although it is discussed in class, we state the formula for Simpson's Rule.  As the Trapezoidal Rule basically fits successive points to a straight line, Simpson's Rule basically fits three consecutive points to a quadratic and combines the result giving - \n",
    "\n",
    "$$I[a,b] =(h/3.) [f(a) + f(b)  + 4 \\sum_{k=0}^{N/2-1} f(a+(2k+1)h)+ 2 \\sum_{k=0}^{N/2-1} f(a+(2k)h)]$$\n",
    "\n",
    "which requires an even number of bins.  The nice thing about Simpson's Rule is that it is accurate to order $h^4$."
   ]
  },
  {
   "cell_type": "code",
   "execution_count": null,
   "metadata": {
    "collapsed": true
   },
   "outputs": [],
   "source": []
  }
 ],
 "metadata": {
  "kernelspec": {
   "display_name": "Python 3",
   "language": "python",
   "name": "python3"
  },
  "language_info": {
   "codemirror_mode": {
    "name": "ipython",
    "version": 3
   },
   "file_extension": ".py",
   "mimetype": "text/x-python",
   "name": "python",
   "nbconvert_exporter": "python",
   "pygments_lexer": "ipython3",
   "version": "3.5.1"
  }
 },
 "nbformat": 4,
 "nbformat_minor": 0
}
