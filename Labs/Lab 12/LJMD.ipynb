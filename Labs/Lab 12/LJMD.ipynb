{
 "cells": [
  {
   "cell_type": "raw",
   "metadata": {},
   "source": []
  },
  {
   "cell_type": "code",
   "execution_count": 15,
   "metadata": {
    "collapsed": false
   },
   "outputs": [],
   "source": [
    "#Monte Carlo simulation for Argon atoms under the Lenard-Jones potential.\n",
    "#Lennard-Jones: V(r) = 4E(sigma/r**12 - sigma/r**6)\n",
    "#reduced distance unit is sigma = 1 where for argon sigma = 2.4 angstrom\n",
    "#reduced energy unit is E=1 where for argon e=eV\n",
    "#Resulting potential is V(r) = 4(1/r**12-1/r**6)\n",
    "#and force magnitude is F(r) = 24(2/r**13-1/r**7)\n",
    "\n",
    "import numpy as np\n",
    "\n",
    "def sign(a, b):    #utility function to select proper sign for flipping distance\n",
    "    if (b >=  0.0):\n",
    "        return abs(a)\n",
    "    else:\n",
    "        return  - abs(a)\n",
    "\n",
    "##########Define the number of atoms so it is a perfect square, simplifies setup\n",
    "Natoms=256\n",
    "sqrtNatoms=int(np.sqrt(Natoms))\n",
    "Nsteps =  10000\n",
    "Kinit = 2.0    #initial average kinetic energy of each particle\n",
    "v0=np.sqrt(2.*Kinit)    #initial average speed of each particle, m=1\n",
    "dt = 0.02\n",
    "\n",
    "##########Now define all the variable arrays.  For now, do not keep track of forces.\n",
    "x  = np.zeros( (Natoms,Nsteps),    float)                       # x position of atoms\n",
    "y  = np.zeros( (Natoms,Nsteps),    float)                       # y position\n",
    "vx = np.zeros( (Natoms,Nsteps),    float)               # x vel. x of atoms\n",
    "vy = np.zeros( (Natoms,Nsteps),    float)                # y component velocity atoms\n",
    "#fx = np.zeros( (Natoms,Nsteps, 2), float)                      # x component of force\n",
    "#fy = np.zeros( (Natoms,Nsteps, 2), float)                      # y component of force\n",
    "\n",
    "##########setup the initial grid of particles, placing them in a squarish configuration\n",
    "sigspace = 5.0 #average spacing between particles in sigma units\n",
    "L = sigspace*sqrtNatoms                    # side of square  \n",
    "halfsig=sigspace/2.    #used for offset from x/y=0 and x/y=L\n",
    "\n",
    "#for now put each particle equally spaced in the region modified by a small amount\n",
    "xvals=np.linspace(halfsig,L-halfsig,sqrtNatoms)\n",
    "yvals=np.linspace(halfsig,L-halfsig,sqrtNatoms)\n",
    "#startpos=[[xs,ys] for xs in xvals for ys in yvals] alternative position set\n",
    "\n",
    "for ix in range(0, sqrtNatoms):                   # x->   0  1  2  3  4\n",
    "    for iy in range(0, sqrtNatoms):               # y=0   0  5  10 15 20 \n",
    "         x[sqrtNatoms*ix+iy,0]=xvals[ix] + np.random.rand()-0.5\n",
    "         y[sqrtNatoms*ix+iy,0]=yvals[iy] + np.random.rand()-0.5\n",
    "         #vx[sqrtNatoms*ix+iy,0]=twelveran()*sqrtKinit\n",
    "         #vy[iy+sqrtNatoms*ix,0]=twelveran()*sqrtKinit\n",
    "         angle=np.random.rand()*2.*np.pi               #to randomize v direction\n",
    "         vx[sqrtNatoms*ix+iy,0]=v0*np.cos(angle)\n",
    "         vy[sqrtNatoms*ix+iy,0]=v0*np.sin(angle)\n",
    "\n",
    "##########do the first step with Euler  new pos = old pos + old vel*time step\n",
    "#for now, this is the only use of the speed array which is not now updated\n",
    "for n1 in range(0, Natoms):\n",
    "    x[n1,1]= x[n1,0] + vx[n1,0]*dt\n",
    "    y[n1,1]= y[n1,0] + vy[n1,0]*dt\n",
    "    vx[n1,1]= vx[n1,0]\n",
    "    vy[n1,1]= vy[n1,0]\n",
    "\n",
    "##########now do all other steps with Verlet starting with third position\n",
    "for ns in range(2, Nsteps):\n",
    "\n",
    "    #this for loop checks for particles that have left the box, and re-introduces them \n",
    "    #on the other side.  It also adjust the previous position to make Verlet\n",
    "    #calculation consistent.  As a result, some particle positions will be\n",
    "    #slightly outside the box, but they will be traveling back into it\n",
    "    for k in range(0,Natoms):\n",
    "        if x[k,ns-1] > L:\n",
    "            x[k,ns-1] = x[k,ns-1] - L\n",
    "            x[k,ns-2] = x[k,ns-2] - L\n",
    "        elif x[k,ns-1] < 0:\n",
    "            x[k,ns-1] = x[k,ns-1] + L\n",
    "            x[k,ns-2] = x[k,ns-2] + L\n",
    "        if y[k,ns-1] > L:\n",
    "            y[k,ns-1] = y[k,ns-1] - L\n",
    "            y[k,ns-2] = y[k,ns-2] - L\n",
    "        elif y[k,ns-1] < 0:\n",
    "            y[k,ns-1] = y[k,ns-1] + L\n",
    "            y[k,ns-2] = y[k,ns-2] + L\n",
    "    \n",
    "    #Now loop over all atoms . . . . \n",
    "    for n in range(0, Natoms):\n",
    "        accx=0\n",
    "        accy=0\n",
    "        #. . . . and for each atom, find the current force/acceleration from all other atoms\n",
    "        for m in range(0, Natoms): \n",
    "            if m == n:\n",
    "               continue\n",
    "#calculate the minimum x distance\n",
    "            dx=x[n,ns-1]-x[m,ns-1]\n",
    "            dy=y[n,ns-1]-y[m,ns-1]\n",
    "            if np.abs(dx) > L/2.:\n",
    "                #dx=dx-L/2.\n",
    "                dx = dx  -  sign(L, dx)    # interact with closer image\n",
    "#now get the minimum y distance\n",
    "            if np.abs(dy) > L/2.:\n",
    "                dy = dy  -  sign(L, dy)\n",
    "          \n",
    "            rmn=np.sqrt(dx*dx+dy*dy)\n",
    "            if rmn > 6.0:\n",
    "                continue      #if the particle is beyond some max dist, ignore\n",
    "            elif rmn < 0.0001:\n",
    "                rmn=0.0001  #limit the approach of particles, including the rmn=0 case\n",
    "            fmn = 24.*(2./rmn**13 - 1./rmn**7)  #force on n from m\n",
    "            thetamn=np.arctan2(dy,dx)\n",
    "            accx+=fmn*np.cos(thetamn)   #accelerations, remember m = 1 otherwise divide f by m\n",
    "            accy+=fmn*np.sin(thetamn)\n",
    "        #Verlet formula, new position depends on previous two and acceleration term\n",
    "        x[n,ns]= 2.*x[n,ns-1] - x[n,ns-2] + accx*dt**2\n",
    "        y[n,ns]= 2.*y[n,ns-1] - y[n,ns-2] + accy*dt**2\n",
    "        #could calculate speed later, but go ahead and use central difference formula\n",
    "        vx[n,ns-1]= (x[n,ns] - x[n,ns-2])/(2.*dt)\n",
    "        vy[n,ns-1]= (y[n,ns] - y[n,ns-2])/(2.*dt)\n"
   ]
  },
  {
   "cell_type": "code",
   "execution_count": 16,
   "metadata": {
    "collapsed": false
   },
   "outputs": [
    {
     "data": {
      "text/plain": [
       "12.5"
      ]
     },
     "execution_count": 16,
     "metadata": {},
     "output_type": "execute_result"
    }
   ],
   "source": [
    "2.5*2.5*2"
   ]
  },
  {
   "cell_type": "code",
   "execution_count": 17,
   "metadata": {
    "collapsed": false
   },
   "outputs": [
    {
     "data": {
      "text/plain": [
       "<matplotlib.collections.PathCollection at 0x11284a0b8>"
      ]
     },
     "execution_count": 17,
     "metadata": {},
     "output_type": "execute_result"
    },
    {
     "data": {
      "image/png": "[encoded data removed]",
      "text/plain": [
       "<matplotlib.figure.Figure at 0x1095ca400>"
      ]
     },
     "metadata": {},
     "output_type": "display_data"
    }
   ],
   "source": [
    "%matplotlib inline\n",
    "import matplotlib.pyplot as plt\n",
    "\n",
    "plt.scatter(x[:,0],y[:,0],s=1)"
   ]
  },
  {
   "cell_type": "code",
   "execution_count": null,
   "metadata": {
    "collapsed": false
   },
   "outputs": [],
   "source": [
    "y[0:31,1]"
   ]
  },
  {
   "cell_type": "code",
   "execution_count": 18,
   "metadata": {
    "collapsed": false
   },
   "outputs": [
    {
     "data": {
      "text/plain": [
       "<matplotlib.collections.PathCollection at 0x112952400>"
      ]
     },
     "execution_count": 18,
     "metadata": {},
     "output_type": "execute_result"
    },
    {
     "data": {
      "image/png": "[encoded data removed]",
      "text/plain": [
       "<matplotlib.figure.Figure at 0x10ba99748>"
      ]
     },
     "metadata": {},
     "output_type": "display_data"
    }
   ],
   "source": [
    "plt.scatter(x[:,900],y[:,900],s=1)"
   ]
  },
  {
   "cell_type": "code",
   "execution_count": 20,
   "metadata": {
    "collapsed": false
   },
   "outputs": [
    {
     "data": {
      "text/plain": [
       "(array([   0.,   48.,    0.,    0.,    0.,    0.,    0.,    0.,    0.,  208.]),\n",
       " array([ 2.,  2.,  2.,  2.,  2.,  2.,  2.,  2.,  2.,  2.,  2.]),\n",
       " <a list of 10 Patch objects>)"
      ]
     },
     "execution_count": 20,
     "metadata": {},
     "output_type": "execute_result"
    },
    {
     "data": {
      "image/png": "[encoded data removed]",
      "text/plain": [
       "<matplotlib.figure.Figure at 0x112acc668>"
      ]
     },
     "metadata": {},
     "output_type": "display_data"
    }
   ],
   "source": [
    "plt.hist(np.sqrt(vx[:,0]**2+vy[:,0]**2))"
   ]
  },
  {
   "cell_type": "code",
   "execution_count": 19,
   "metadata": {
    "collapsed": false
   },
   "outputs": [
    {
     "data": {
      "text/plain": [
       "(array([  4.,   2.,   5.,   3.,   7.,  11.,  11.,  19.,   8.,  22.,  12.,\n",
       "         18.,  15.,  12.,  21.,  14.,   7.,  10.,   7.,   9.,   7.,  10.,\n",
       "          2.,   8.,   4.,   2.,   0.,   1.,   0.,   1.,   3.,   1.]),\n",
       " array([ 0.07185096,  0.20881519,  0.34577942,  0.48274365,  0.61970788,\n",
       "         0.75667211,  0.89363634,  1.03060057,  1.16756481,  1.30452904,\n",
       "         1.44149327,  1.5784575 ,  1.71542173,  1.85238596,  1.98935019,\n",
       "         2.12631442,  2.26327865,  2.40024289,  2.53720712,  2.67417135,\n",
       "         2.81113558,  2.94809981,  3.08506404,  3.22202827,  3.3589925 ,\n",
       "         3.49595673,  3.63292097,  3.7698852 ,  3.90684943,  4.04381366,\n",
       "         4.18077789,  4.31774212,  4.45470635]),\n",
       " <a list of 32 Patch objects>)"
      ]
     },
     "execution_count": 19,
     "metadata": {},
     "output_type": "execute_result"
    },
    {
     "data": {
      "image/png": "[encoded data removed]",
      "text/plain": [
       "<matplotlib.figure.Figure at 0x112929390>"
      ]
     },
     "metadata": {},
     "output_type": "display_data"
    }
   ],
   "source": [
    "plt.hist(np.sqrt(vx[:,900]**2+vy[:,900]**2),32)"
   ]
  },
  {
   "cell_type": "code",
   "execution_count": null,
   "metadata": {
    "collapsed": true
   },
   "outputs": [],
   "source": []
  }
 ],
 "metadata": {
  "anaconda-cloud": {},
  "kernelspec": {
   "display_name": "Python [Root]",
   "language": "python",
   "name": "Python [Root]"
  },
  "language_info": {
   "codemirror_mode": {
    "name": "ipython",
    "version": 3
   },
   "file_extension": ".py",
   "mimetype": "text/x-python",
   "name": "python",
   "nbconvert_exporter": "python",
   "pygments_lexer": "ipython3",
   "version": "3.5.2"
  }
 },
 "nbformat": 4,
 "nbformat_minor": 0
}
