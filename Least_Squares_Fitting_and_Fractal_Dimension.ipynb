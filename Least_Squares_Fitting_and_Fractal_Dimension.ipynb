{
 "cells": [
  {
   "cell_type": "markdown",
   "metadata": {},
   "source": [
    "## Least Squares Fitting"
   ]
  },
  {
   "cell_type": "markdown",
   "metadata": {},
   "source": [
    "We covered the idea of interpolation where the idea was to create a curve that exactly hits all the provided points.  To do this, of course, the polynomial needed to be of order equal to N-1 where N is the number of points.\n",
    "\n",
    "Just as commonly, and maybe more so for data analysis and simulation purposes, one instead wants to find how closes a number of points follows some functional form.  This is the purpose of **curve fitting** or **regression analysis**.\n",
    "\n",
    "There are many different resources and approaches related to curve-fitting, here we concentrate on a straight-forward method that will allow us to fit polynomials known as least-squares fitting.\n",
    "\n",
    "The fundamental idea is that given an assumed functional form (1D case) that should represent the data, y=f(x), we want to have f(x) minimize the sum of the squared deviations of the function from the known points.  If our N data points are given by (x_i,y_i), we want to minimize the error function -\n",
    "\n",
    "$$E=\\sum_{i=1}^{N}(y_i-f(x_i))^2$$\n",
    "\n",
    "For instance, suppose we are trying to fit a straight line to a curve.  In this case -\n",
    "$$f(x) = ax+b$$\n",
    "and we want to minimize - \n",
    "$$E=\\sum_{i=1}^{N}(y_i-(ax_i+b))^2$$\n",
    "The task is to find the a and b values that minimizes E.  The requirement here is that -\n",
    "\n",
    "$$\\frac{\\partial E}{\\partial a}=0\\ \\ \\ \\ \\ \\ \\ \\frac{\\partial E}{\\partial b}=0$$\n",
    "\n",
    "Which are solved by - \n",
    "\n",
    "$$a = \\frac{\\sum_{i=1}^{N}x_i y_i -N\\bar{x}\\bar{y}}{\\sum_{i=1}^{N}{x_i^2} - N\\bar{x}^2}$$\n",
    "$$b = \\frac{\\bar{y}\\sum_{i=1}^{N}{x_i}^2 -\\bar{x}\\sum_{i=1}^{N}x_i y_i}{\\sum_{i=1}^{N}{x_i^2} - N\\bar{x}^2}$$\n",
    "\n",
    "where the barred quantities are the average x and y values.\n",
    "\n",
    "For now we forgo the derivation of the estimates of a, b.   Suffice to say for now, that we can make f(x) more complicated, for instance a cubic or higher order polynomial.  f(x) can even include more complicated non-polynomial functions.   This is all still called **linear least-squares fitting** because we are minimizing the error function coming from squaring the differences and it is linear in the coefficients.  Often matrix operations are important in calculating these kinds of quantities."
   ]
  },
  {
   "cell_type": "markdown",
   "metadata": {},
   "source": [
    "### Data with Errors"
   ]
  },
  {
   "cell_type": "markdown",
   "metadata": {},
   "source": [
    "When there are explicit errors associated with the data points, say the y-values, there are related techniques for performing a fit.  The most common approach is to use an error function based upon a $\\chi^2$ like function -\n",
    "\n",
    "$$E=\\sum_{i=1}^{N}\\frac{(y_i-f(x_i))}{\\sigma_{i}^{2}}^2$$\n",
    "\n",
    "where the $\\sigma_i$ is the error associated with the y$_i$ value.  Many fitting packages have options to include data errors in their calculations."
   ]
  },
  {
   "cell_type": "markdown",
   "metadata": {},
   "source": [
    "### Numpy Polyfit "
   ]
  },
  {
   "cell_type": "markdown",
   "metadata": {},
   "source": [
    "There are several options in python for fitting routines.   Here we show a script using the Numpy Polyfit routine.  Basically, we need to provide polyfit with the x and y datapoints, and the desired polynomial degree.\n",
    "\n",
    "Polyfit then returns as an array the coefficients of the polynomial fit, with the first element being the coefficient for the highest order of x on down to the constant term.\n",
    "\n",
    "The result is a curve minimizing the Error function from above.  Whether or not the fit function is appropriate is up to the user."
   ]
  },
  {
   "cell_type": "code",
   "execution_count": 18,
   "metadata": {
    "collapsed": false
   },
   "outputs": [
    {
     "data": {
      "image/png": "[encoded data removed]",
      "text/plain": [
       "<matplotlib.figure.Figure at 0x105c14f60>"
      ]
     },
     "metadata": {},
     "output_type": "display_data"
    }
   ],
   "source": [
    "import numpy as np\n",
    "import matplotlib.pyplot as plt\n",
    "x = np.arange(0,3)  \n",
    "y = np.exp(-x/3.0)  \n",
    "myfit = np.polyfit(x,y,1)  #third element is degree, so linear fit here\n",
    "xnew = np.arange(0,3,0.1)  \n",
    "myline = np.poly1d(myfit)\n",
    "plt.plot(x, y, '.', xnew, myline(xnew), '-')\n",
    "plt.show()"
   ]
  },
  {
   "cell_type": "code",
   "execution_count": 19,
   "metadata": {
    "collapsed": false
   },
   "outputs": [
    {
     "data": {
      "text/plain": [
       "array([-0.24329144,  0.98660758])"
      ]
     },
     "execution_count": 19,
     "metadata": {},
     "output_type": "execute_result"
    }
   ],
   "source": [
    "myfit"
   ]
  },
  {
   "cell_type": "markdown",
   "metadata": {},
   "source": [
    "## Fractal Dimension as Mass Growth"
   ]
  },
  {
   "cell_type": "markdown",
   "metadata": {},
   "source": [
    "Diffusion and cluster growth are opposite processes.  Here we calculate a cluster using the Eden model (cancer-like).  The idea is to start with a nucleation center, and allow new sites to be occupied that are on the boundary of old sites.  The trick is to keep track of which sites are occupied, which available for occupation, and which are stagnant."
   ]
  },
  {
   "cell_type": "code",
   "execution_count": 88,
   "metadata": {
    "collapsed": false
   },
   "outputs": [
    {
     "name": "stderr",
     "output_type": "stream",
     "text": [
      "/usr/local/lib/python3.5/site-packages/ipykernel/__main__.py:50: DeprecationWarning: using a non-integer number instead of an integer will result in an error in the future\n"
     ]
    },
    {
     "data": {
      "image/png": "[encoded data removed]",
      "text/plain": [
       "<matplotlib.figure.Figure at 0x105c0a898>"
      ]
     },
     "metadata": {},
     "output_type": "display_data"
    }
   ],
   "source": [
    "%matplotlib inline\n",
    "import numpy as np\n",
    "import matplotlib.pyplot as plt\n",
    "\n",
    "#########################################\n",
    "\n",
    "ncells=1000  #number of sites to fill\n",
    "nside=100    #width of the grid\n",
    "#create an array of index increments for use in populating sites\n",
    "\n",
    "neighbors=np.array([\n",
    "    (0, 1), \n",
    "    (0, -1), \n",
    "    (1, 0), \n",
    "    (-1, 0)\n",
    "])\n",
    "\n",
    "body=np.zeros((nside,nside))-1\n",
    "ctr=int(nside/2)\n",
    "body[ctr,ctr] = 1\n",
    "for near in neighbors:\n",
    "    body[ctr+near[0],ctr+near[1]] = 0\n",
    "\n",
    "for i in range(ncells-1):\n",
    "    gsites = np.where(body==0)\n",
    "    nget=np.random.choice(gsites[0].size)\n",
    "    curx=gsites[0][nget]\n",
    "    cury=gsites[1][nget]\n",
    "    body[curx,cury] = 1\n",
    "    \n",
    "   # fill=np.random.choice(gsites)\n",
    "    for near in neighbors:    #now check the neighbors, and if -1 change to 0\n",
    "        if body[curx+near[0],cury+near[1]] == -1:\n",
    "            body[curx+near[0],cury+near[1]] = 0\n",
    "\n",
    "cleanup=np.where(body==-1)\n",
    "body[cleanup]=0\n",
    "\n",
    "gindex=np.transpose(gsites)  #change the order of gsites to create two element position indices\n",
    "mass=np.zeros(ctr)\n",
    "\n",
    "filled=np.where(body==1)\n",
    "filled=np.transpose(filled)\n",
    "distances=np.linspace(1,ctr-1)\n",
    "\n",
    "for k in distances:\n",
    "    for cur in filled:\n",
    "        rdist=np.sqrt((ctr-cur[0])**2 + (ctr-cur[1])**2)\n",
    "        if rdist <= k:\n",
    "            mass[k]+=1\n",
    "plt.imshow(body)\n",
    "plt.gray()\n",
    "plt.show()    "
   ]
  },
  {
   "cell_type": "code",
   "execution_count": 8,
   "metadata": {
    "collapsed": false
   },
   "outputs": [],
   "source": [
    "tmpind=np.transpose(gsites)"
   ]
  },
  {
   "cell_type": "code",
   "execution_count": 52,
   "metadata": {
    "collapsed": false
   },
   "outputs": [
    {
     "data": {
      "text/plain": [
       "49"
      ]
     },
     "execution_count": 52,
     "metadata": {},
     "output_type": "execute_result"
    }
   ],
   "source": [
    "mass.size"
   ]
  },
  {
   "cell_type": "code",
   "execution_count": 50,
   "metadata": {
    "collapsed": false
   },
   "outputs": [
    {
     "data": {
      "text/plain": [
       "array([    0.,    14.,    25.,    45.,    69.,   109.,   145.,   193.,\n",
       "         241.,   293.,   364.,   434.,   504.,   584.,   654.,   733.,\n",
       "         795.,   846.,   893.,   922.,   949.,   969.,   978.,   989.,\n",
       "         997.,  1000.,  1000.,  1000.,  1000.,  1000.,  1000.,  1000.,\n",
       "        1000.,  1000.,  1000.,  1000.,  1000.,  1000.,  1000.,  1000.,\n",
       "        1000.,  1000.,  1000.,  1000.,  1000.,  1000.,  1000.,  1000.,\n",
       "        1000.])"
      ]
     },
     "execution_count": 50,
     "metadata": {},
     "output_type": "execute_result"
    }
   ],
   "source": [
    "mass"
   ]
  },
  {
   "cell_type": "markdown",
   "metadata": {},
   "source": [
    "Let us use the polyfit function discussed above to find the fit in the middle of the linear range and plot/print the results"
   ]
  },
  {
   "cell_type": "code",
   "execution_count": 89,
   "metadata": {
    "collapsed": false
   },
   "outputs": [
    {
     "name": "stdout",
     "output_type": "stream",
     "text": [
      "Linear regression using numpy.polyfit and poly1d\n",
      "parameters: a=2.03 b=1.06\n"
     ]
    },
    {
     "name": "stderr",
     "output_type": "stream",
     "text": [
      "/usr/local/lib/python3.5/site-packages/ipykernel/__main__.py:7: RuntimeWarning: divide by zero encountered in log\n"
     ]
    },
    {
     "data": {
      "image/png": "[encoded data removed]",
      "text/plain": [
       "<matplotlib.figure.Figure at 0x105c3c278>"
      ]
     },
     "metadata": {},
     "output_type": "display_data"
    }
   ],
   "source": [
    "myfit = np.polyfit(np.log(distances[4:15]),np.log(mass[4:15]),1)  \n",
    "myline = np.poly1d(myfit)\n",
    "xnew = np.arange(np.log(distances[4]),np.log(distances[14]),0.1)  \n",
    "print('Linear regression using numpy.polyfit and poly1d')\n",
    "print('parameters: a=%.2f b=%.2f' % (myline[1],myline[0]))\n",
    "#print('parameters: a=%.2f b=%.2f \\nstd error= %.3f' % (myline[1],myline[0]))\n",
    "plt.plot(np.log(distances),np.log(mass), '.', xnew, myline(xnew), '-')\n",
    "plt.xlabel(\"Log of Distance\")\n",
    "plt.ylabel(\"Log of Contained Mass\")\n",
    "plt.title(\"Eden Cluster Fractal Dimension\")\n",
    "plt.show()"
   ]
  },
  {
   "cell_type": "code",
   "execution_count": 73,
   "metadata": {
    "collapsed": false
   },
   "outputs": [
    {
     "data": {
      "text/plain": [
       "(array([ 2.04027008,  1.03460343]),\n",
       " array([ 0.00571108]),\n",
       " 2,\n",
       " array([ 1.4101439 ,  0.10721097]),\n",
       " 2.4424906541753444e-15)"
      ]
     },
     "execution_count": 73,
     "metadata": {},
     "output_type": "execute_result"
    }
   ],
   "source": [
    "myfit #print out the calculated fit coefficients, for a line the first is the slope, second the y-intercept"
   ]
  },
  {
   "cell_type": "markdown",
   "metadata": {},
   "source": [
    "Another option is the **linregress** function from scipy.stats.  This gives "
   ]
  },
  {
   "cell_type": "code",
   "execution_count": 90,
   "metadata": {
    "collapsed": false
   },
   "outputs": [
    {
     "name": "stdout",
     "output_type": "stream",
     "text": [
      "Linear regression using stats.linregress\n",
      "parameters: a=2.03 b=1.06 \n",
      "std error= 0.023\n"
     ]
    }
   ],
   "source": [
    "from scipy import stats\n",
    "import numpy as np\n",
    "x = np.log(distances[4:15])\n",
    "y = np.log(mass[4:15])\n",
    "slope, intercept, r_value, p_value, std_err = stats.linregress(x,y)\n",
    "print('Linear regression using stats.linregress')\n",
    "print('parameters: a=%.2f b=%.2f \\nstd error= %.3f' % (slope,intercept,std_err))"
   ]
  },
  {
   "cell_type": "markdown",
   "metadata": {},
   "source": [
    "Yet another option for fitting is the **curve_fit** function from **scipy.optimize**.  I like its immediate flexibility in defining the function, and in providing a covariance matrix. \n",
    "\n",
    "A **covariance matrix** is an NxN matrix where N is the number of fit parameters.  The diagonal elements are the variance of the parameters, and the off-diagonal elements the cross-variance of pairs of parameters.  We can estimate the standard deviation of a parameter as the square root of the appropriate diagonal element."
   ]
  },
  {
   "cell_type": "code",
   "execution_count": 91,
   "metadata": {
    "collapsed": false
   },
   "outputs": [
    {
     "name": "stdout",
     "output_type": "stream",
     "text": [
      "Linear regression using scipy.optimize.curve_fit\n",
      "parameters: a=2.03 b=1.06 \n",
      "std error on slope (a)= 0.023\n"
     ]
    }
   ],
   "source": [
    "from scipy.optimize import curve_fit\n",
    "\n",
    "def line(x, a, b):\n",
    "    return a * x + b\n",
    "\n",
    "x = np.log(distances[4:15])\n",
    "y = np.log(mass[4:15])\n",
    "popt, pcov = curve_fit(line, x, y)\n",
    "print('Linear regression using scipy.optimize.curve_fit')\n",
    "print('parameters: a=%.2f b=%.2f \\nstd error on slope (a)= %.3f' % (slope,intercept,np.sqrt(pcov[0,0])))"
   ]
  },
  {
   "cell_type": "code",
   "execution_count": null,
   "metadata": {
    "collapsed": true
   },
   "outputs": [],
   "source": []
  }
 ],
 "metadata": {
  "kernelspec": {
   "display_name": "Python 3",
   "language": "python",
   "name": "python3"
  },
  "language_info": {
   "codemirror_mode": {
    "name": "ipython",
    "version": 3
   },
   "file_extension": ".py",
   "mimetype": "text/x-python",
   "name": "python",
   "nbconvert_exporter": "python",
   "pygments_lexer": "ipython3",
   "version": "3.5.1"
  }
 },
 "nbformat": 4,
 "nbformat_minor": 0
}
