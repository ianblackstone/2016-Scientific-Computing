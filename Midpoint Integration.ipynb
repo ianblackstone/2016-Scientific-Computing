{
 "cells": [
  {
   "cell_type": "markdown",
   "metadata": {},
   "source": [
    "## Integration Examples"
   ]
  },
  {
   "cell_type": "markdown",
   "metadata": {},
   "source": [
    "Let us use the midpoint (and then trapezoidal) rule to calculate an integral and practice defining a simple function.  \n",
    "\n",
    "Two new things in this script are -\n",
    "1) using a function within a script to create reusable code\n",
    "2) use of the += operation"
   ]
  },
  {
   "cell_type": "markdown",
   "metadata": {},
   "source": [
    "Functions in python have the general form - \n",
    "\n",
    "def functionname(arguments):\n",
    "     block of code\n",
    "\n",
    "where the block of code can be quite complex. Arguments are user-defined inputs that are included with each function call, although no arguments are required.\n",
    "\n",
    "Usually the block is ended with a \"return\" function which outputs the quantity of interest.\n",
    "Functions defined within a script are known to the script, but files of functions can be defined then loaded with a command like -\n",
    "\n",
    "from mydefinitions import myfunction\n",
    "\n",
    "where a mydefinitions.py file is expected, containing the definition of myfunction.\n",
    "\n",
    "The use of functions provides modularity, better organization, readability, and re-use capability to your code"
   ]
  },
  {
   "cell_type": "markdown",
   "metadata": {},
   "source": [
    "### Midpoint Rule"
   ]
  },
  {
   "cell_type": "markdown",
   "metadata": {},
   "source": [
    "The expression, as discussed in class, for the midpoint rule assuming you are using an even number of bins of width h and every other point is used as a midpoint is -\n",
    "$$I[a,b] =2h[\\sum_{k=0}^{N/2} f(a+(2k+1)h)]$$"
   ]
  },
  {
   "cell_type": "markdown",
   "metadata": {},
   "source": [
    "import math\n",
    "\n",
    "def f(x):\n",
    "    return x**4 - 2*x + 1\n",
    "\n",
    "N = 16\n",
    "a = 0.0\n",
    "b = 2.0\n",
    "\n",
    "h = (b -a)/N\n",
    "maxiter=int(N/2)\n",
    "s=0\n",
    "#s = 0.5*f(a) + 0.5*f(b)\n",
    "for k in range(0,maxiter):\n",
    "    s += f(a+(2*k+1)*h)\n",
    "\n",
    "print(2*h*s)"
   ]
  },
  {
   "cell_type": "markdown",
   "metadata": {},
   "source": [
    "### Trapezoidal Rule"
   ]
  },
  {
   "cell_type": "markdown",
   "metadata": {},
   "source": [
    "Newman uses the trapezoidal rule, essential half forward and half back rectangles which for a three point (two bin) interval gives an area-\n",
    "$$A = h/2 [f(a+(k-1)/h) + f(a+kh)]$$\n",
    "\n",
    "And if we sum over all segments of multiple rectangles covering a larger region, the exterior points are used once and all inner points used twice giving an overall integral of -  \n",
    "\n",
    "$$I[a,b] =h[f(a)/2. + f(b)/2. + \\sum_{k=1}^{N-1} f(a+kh)]$$"
   ]
  },
  {
   "cell_type": "code",
   "execution_count": 42,
   "metadata": {
    "collapsed": false
   },
   "outputs": [
    {
     "name": "stdout",
     "output_type": "stream",
     "text": [
      "0.4650946458672943\n"
     ]
    }
   ],
   "source": [
    "#based on Newman code -  %load \"../newman/trapezoidal.py\"\n",
    "\n",
    "def f(x):\n",
    "    return math.sin(x)*math.exp(-x)\n",
    "\n",
    "N = 16\n",
    "a = 0.0\n",
    "b = 2.0\n",
    "\n",
    "h = (b-a)/N\n",
    "\n",
    "s = 0.5*f(a) + 0.5*f(b)\n",
    "for k in range(1,N):\n",
    "    s += f(a+k*h)\n",
    "\n",
    "print(h*s)\n"
   ]
  },
  {
   "cell_type": "code",
   "execution_count": null,
   "metadata": {
    "collapsed": true
   },
   "outputs": [],
   "source": []
  }
 ],
 "metadata": {
  "kernelspec": {
   "display_name": "Python 3",
   "language": "python",
   "name": "python3"
  },
  "language_info": {
   "codemirror_mode": {
    "name": "ipython",
    "version": 3
   },
   "file_extension": ".py",
   "mimetype": "text/x-python",
   "name": "python",
   "nbconvert_exporter": "python",
   "pygments_lexer": "ipython3",
   "version": "3.5.1"
  }
 },
 "nbformat": 4,
 "nbformat_minor": 0
}
